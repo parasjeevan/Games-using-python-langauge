{
  "nbformat": 4,
  "nbformat_minor": 0,
  "metadata": {
    "colab": {
      "provenance": []
    },
    "kernelspec": {
      "name": "python3",
      "display_name": "Python 3"
    },
    "language_info": {
      "name": "python"
    }
  },
  "cells": [
    {
      "cell_type": "code",
      "execution_count": 20,
      "metadata": {
        "id": "rzNCcSUsDYud"
      },
      "outputs": [],
      "source": [
        "questions = ['who is the developer of python langauge',\n",
        "            'when did india get independence',\n",
        "            'what is the currwncy in india',\n",
        "            'which state does banglore belong to',\n",
        "            'which is the latest iphone?']"
      ]
    },
    {
      "cell_type": "code",
      "source": [
        "answers = ['Guido Van',\n",
        "          '1947',\n",
        "          'INR',\n",
        "          'Karnataka',\n",
        "          'iphone12']"
      ],
      "metadata": {
        "id": "pa1Dk-0hE3n8"
      },
      "execution_count": 21,
      "outputs": []
    },
    {
      "cell_type": "code",
      "source": [
        "  options = [ ['denis ritchi','Alan Frank','Guido Van','Albert'],\n",
        "             ['1947','1995','2000','19950'],\n",
        "             ['Pounds','Pollars','Euros','INR'],\n",
        "             ['Karnataka','Rajasthan','west bengal','Assam'],\n",
        "             ['iPhone.se','iphone13','iphone11','iphone12']]"
      ],
      "metadata": {
        "id": "01xnAxSuFMoO"
      },
      "execution_count": 22,
      "outputs": []
    },
    {
      "cell_type": "code",
      "source": [
        "def play_game(username, questions, answers , options):\n",
        "  print(\"Hello\",username ,\" to the KBC game\")\n",
        "  score = 0\n",
        "  for i in range(len(questions)):\n",
        "    current_question = questions[i]\n",
        "    correct_answer = answers[i]\n",
        "    current_question_options = options[i]\n",
        "    print(\"Question : \",current_question)\n",
        "    for index , each_option in enumerate(current_question_options):\n",
        "      print(index+1,\")\",each_option , sep='')\n",
        "      user_answer_index =  int(input(\"enter your choice (1,2,3,4) : \"))\n",
        "      user_answer = current_question_options[user_answer_index-1]\n",
        "\n",
        "    if user_answer==correct_answer:\n",
        "        print(\"correct answer\")\n",
        "        score =score+100\n",
        "    else:\n",
        "        print(\"wrong answer\")\n",
        "        break\n",
        "\n",
        "        print(\"your final score is \", score)\n",
        "        return username , score\n",
        "\n",
        "def view_score (names_and_scores):\n",
        "  for name , score in names_and_scores.items():\n",
        "    print(name, \"has scored\",score)\n",
        "\n",
        "\n",
        "def KBC(questions, answers , options):\n",
        "  names_and_scores = {}\n",
        "  while True :\n",
        "    print(\"welcome to the KBC game!\")\n",
        "    print(\"1)Play game \\n 2)view scores \\n3) Exit\")\n",
        "    choice = int(input(\"please enter your name :\"))\n",
        "    if choice==1:\n",
        "      username = input(\"please enter your name: \")\n",
        "      username , score = play_game(username, questions, answers, options)\n",
        "      names_and_scores[username] = score\n",
        "\n",
        "    elif choice == 1:\n",
        "        view_scores(names_and_scores)\n",
        "\n",
        "    elif choice == 2:\n",
        "        view_score(names_and_scores)\n",
        "    elif choice == 3:\n",
        "        break\n",
        "\n",
        "    else:\n",
        "        print(\"Your choice is not valid\")\n",
        "\n",
        "KBC(questions, answers, options)\n",
        "\n",
        "\n"
      ],
      "metadata": {
        "colab": {
          "base_uri": "https://localhost:8080/"
        },
        "id": "7DU_dBu6Gr3Y",
        "outputId": "bf1003b8-a4d2-423e-979a-afc04ee9cfd1"
      },
      "execution_count": 26,
      "outputs": [
        {
          "name": "stdout",
          "output_type": "stream",
          "text": [
            "welcome to the KBC game!\n",
            "1)Play game \n",
            " 2)view scores \n",
            "3) Exit\n",
            "please enter your name :2\n",
            "welcome to the KBC game!\n",
            "1)Play game \n",
            " 2)view scores \n",
            "3) Exit\n",
            "please enter your name :3\n"
          ]
        }
      ]
    },
    {
      "cell_type": "code",
      "source": [],
      "metadata": {
        "id": "Et8CO4rPR_vF"
      },
      "execution_count": null,
      "outputs": []
    }
  ]
}